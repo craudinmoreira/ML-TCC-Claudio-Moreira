{
 "cells": [
  {
   "cell_type": "code",
   "execution_count": 7,
   "metadata": {},
   "outputs": [
    {
     "data": {
      "text/plain": [
       "' model = Sequential()\\nmodel.add(SimpleRNN(100, activation=\\'relu\\', input_shape=(length, n_features)))\\nmodel.add(Dense(100, activation=\\'relu\\', input_shape=(length, n_features)))\\nmodel.add(Dense(1))\\nmodel.compile(optimizer=\\'adam\\', loss=\"mse\")\\nmodel.fit(generator) '"
      ]
     },
     "execution_count": 7,
     "metadata": {},
     "output_type": "execute_result"
    }
   ],
   "source": [
    "from tensorflow.keras.preprocessing.sequence import TimeseriesGenerator\n",
    "from tensorflow.keras import Sequential\n",
    "from tensorflow.keras.layers import SimpleRNN, Dense\n",
    "\n",
    "train = [0, 1, 2, 3, 4, 5, 6, 7, 8, 9, 10]\n",
    "\n",
    "# How many record to take into account\n",
    "length = 2\n",
    "\n",
    "batch_size = 1\n",
    "\n",
    "# 1 beacause it's univariate\n",
    "n_features = 1\n",
    "\n",
    "generator = TimeseriesGenerator(train, train, stride=1, length=length, batch_size=batch_size)\n",
    "\n",
    "\"\"\" model = Sequential()\n",
    "model.add(SimpleRNN(100, activation='relu', input_shape=(length, n_features)))\n",
    "model.add(Dense(100, activation='relu', input_shape=(length, n_features)))\n",
    "model.add(Dense(1))\n",
    "model.compile(optimizer='adam', loss=\"mse\")\n",
    "model.fit(generator) \"\"\""
   ]
  },
  {
   "cell_type": "code",
   "execution_count": 8,
   "metadata": {},
   "outputs": [
    {
     "data": {
      "text/plain": [
       "(array([[0, 1]]), array([2]))"
      ]
     },
     "execution_count": 8,
     "metadata": {},
     "output_type": "execute_result"
    }
   ],
   "source": [
    "generator[0]"
   ]
  },
  {
   "cell_type": "code",
   "execution_count": 9,
   "metadata": {},
   "outputs": [
    {
     "data": {
      "text/plain": [
       "(array([[1, 2]]), array([3]))"
      ]
     },
     "execution_count": 9,
     "metadata": {},
     "output_type": "execute_result"
    }
   ],
   "source": [
    "generator[1]"
   ]
  }
 ],
 "metadata": {
  "kernelspec": {
   "display_name": "Python 3",
   "language": "python",
   "name": "python3"
  },
  "language_info": {
   "codemirror_mode": {
    "name": "ipython",
    "version": 3
   },
   "file_extension": ".py",
   "mimetype": "text/x-python",
   "name": "python",
   "nbconvert_exporter": "python",
   "pygments_lexer": "ipython3",
   "version": "3.11.4"
  }
 },
 "nbformat": 4,
 "nbformat_minor": 2
}
